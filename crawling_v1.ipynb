{
 "cells": [
  {
   "cell_type": "code",
   "execution_count": 4,
   "metadata": {},
   "outputs": [],
   "source": [
    "channel_list = ['https://www.youtube.com/user/CavalcantiJiuJitsu/videos', 'https://www.youtube.com/user/StephanKesting/videos',\n",
    "               'https://www.youtube.com/user/GGBJJ/videos', 'https://www.youtube.com/user/bernardorochajf/videos',\n",
    "                'https://www.youtube.com/user/joelovesfishin/videos', 'https://www.youtube.com/user/BJJLibrary/videos',\n",
    "                'https://www.youtube.com/user/bjjweekly/videos', 'https://www.youtube.com/channel/UCJNi-p8f0nnB3cf_ujYm3Fg/videos',\n",
    "               'https://www.youtube.com/channel/UC2uvUWTuQXq1k5DOZhzJ8VQ/videos', 'https://www.youtube.com/c/BJJCurriculum/videos',\n",
    "               'https://www.youtube.com/c/Chewjitsu/videos', 'https://www.youtube.com/c/ChadtheBeastHardy/videos', \n",
    "                'https://www.youtube.com/c/TheGrapplingAcademy/videos', 'https://www.youtube.com/c/BrandonQuick/videos',\n",
    "               'https://www.youtube.com/user/jasculs/videos', 'https://www.youtube.com/c/KnightJiuJitsu/videos',\n",
    "                'https://www.youtube.com/user/ibjjf/videos']\n",
    "\n",
    "for channel in channel_list:\n",
    "    channel_name, vids_url = get_videos(channel)\n",
    "    vids_url.to_pickle('vids_url/' + channel_name + '.pkl')"
   ]
  }
 ],
 "metadata": {
  "kernelspec": {
   "display_name": "Python 3",
   "language": "python",
   "name": "python3"
  },
  "language_info": {
   "codemirror_mode": {
    "name": "ipython",
    "version": 3
   },
   "file_extension": ".py",
   "mimetype": "text/x-python",
   "name": "python",
   "nbconvert_exporter": "python",
   "pygments_lexer": "ipython3",
   "version": "3.7.6"
  }
 },
 "nbformat": 4,
 "nbformat_minor": 4
}
