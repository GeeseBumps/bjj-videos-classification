{
 "cells": [
  {
   "cell_type": "code",
   "execution_count": null,
   "metadata": {},
   "outputs": [],
   "source": [
    "from selenium import webdriver\n",
    "from selenium.webdriver.common.keys import Keys"
   ]
  },
  {
   "cell_type": "code",
   "execution_count": null,
   "metadata": {},
   "outputs": [],
   "source": [
    "driver = webdriver.Chrome('C:/Users/damons/PycharmProjects/chromedriver')\n",
    "driver.get('https://www.youtube.com/user/StephanKesting/videos')"
   ]
  },
  {
   "cell_type": "code",
   "execution_count": null,
   "metadata": {},
   "outputs": [],
   "source": [
    "import time\n",
    "SCROLL_PAUSE_TIME = 0.5\n",
    "# 한번 스크롤 하고 멈출 시간 설정\n",
    "\n",
    "body = driver.find_element_by_tag_name('body')\n",
    "# body태그를 선택하여 body에 넣음\n",
    "\n",
    "while True:\n",
    "    last_height = driver.execute_script('return document.documentElement.scrollHeight')\n",
    "    # 현재 화면의 길이를 리턴 받아 last_height에 넣음\n",
    "    for i in range(10):\n",
    "        body.send_keys(Keys.END)\n",
    "        # body 본문에 END키를 입력(스크롤내림)\n",
    "        time.sleep(SCROLL_PAUSE_TIME)\n",
    "    new_height = driver.execute_script('return document.documentElement.scrollHeight')\n",
    "    if new_height == last_height:\n",
    "        break;"
   ]
  },
  {
   "cell_type": "code",
   "execution_count": null,
   "metadata": {},
   "outputs": [],
   "source": [
    "from bs4 import BeautifulSoup\n",
    "\n",
    "page = driver.page_source\n",
    "soup = BeautifulSoup(page, 'lxml')"
   ]
  },
  {
   "cell_type": "code",
   "execution_count": null,
   "metadata": {},
   "outputs": [],
   "source": [
    "all_videos = soup.find_all(id='dismissable')\n",
    "\n",
    "title_list = []\n",
    "for video in all_videos:\n",
    "    title = video.find(id='video-title')\n",
    "    if len(title.text.strip())>0:\n",
    "        title_list.append(title.text)\n",
    "    # 공백을 제거하고 글자수가 0보다 크면 append    \n",
    "\n",
    "print(title_list)\n",
    "print(len(title_list))"
   ]
  },
  {
   "cell_type": "code",
   "execution_count": null,
   "metadata": {},
   "outputs": [],
   "source": [
    "video_time_list = []\n",
    "for video in all_videos:\n",
    "    video_time = video.find('span',{'class' : 'style-scope ytd-thumbnail-overlay-time-status-renderer'})\n",
    "    video_time_list.append(video_time.text.strip())\n",
    "\n",
    "print(video_time_list)    \n",
    "print(len(video_time_list))"
   ]
  },
  {
   "cell_type": "code",
   "execution_count": null,
   "metadata": {},
   "outputs": [],
   "source": [
    "def stime(text):\n",
    "    time = text.split(':')\n",
    "    print(time)\n",
    "    if len(time) == 1:\n",
    "        return int(time[0])\n",
    "    elif len(time) == 2:\n",
    "        return int(float(time[0]))*60 + int(float(time[1]))\n",
    "    else:\n",
    "        return int(float(time[0]))*3600 + int(float(time[1]))*60 + int(float(time[2]))\n",
    "    \n",
    "video_time_seperate_list = []\n",
    "for time in video_time_list:\n",
    "    video_time_seperate_list.append(stime(time))\n",
    "\n",
    "print(video_time_seperate_list)"
   ]
  },
  {
   "cell_type": "code",
   "execution_count": null,
   "metadata": {},
   "outputs": [],
   "source": [
    "import re\n",
    "\n",
    "view_num_list = []\n",
    "view_num_regexp = re.compile(r'조회수')\n",
    "for video in all_videos:\n",
    "    view_num = video.find('span',{'class':'style-scope ytd-grid-video-renderer'})\n",
    "    if view_num_regexp.search(view_num.text):\n",
    "        # view_num.text 에 '조회수' 문자열이 있으면 True\n",
    "        view_num_list.append(view_num.text)\n",
    "view_num_list"
   ]
  },
  {
   "cell_type": "code",
   "execution_count": null,
   "metadata": {},
   "outputs": [],
   "source": [
    "a = soup.find_all(id='video-title')\n",
    "lst = []\n",
    "for item in a:\n",
    "    lst.append(item.attrs['href'])"
   ]
  },
  {
   "cell_type": "code",
   "execution_count": 35,
   "metadata": {},
   "outputs": [],
   "source": [
    "url_list = []\n",
    "for link in lst:\n",
    "    url_link = 'https://www.youtube.com'+link\n",
    "    url_list.append(url_link)"
   ]
  },
  {
   "cell_type": "code",
   "execution_count": 38,
   "metadata": {},
   "outputs": [
    {
     "data": {
      "text/html": [
       "<div>\n",
       "<style scoped>\n",
       "    .dataframe tbody tr th:only-of-type {\n",
       "        vertical-align: middle;\n",
       "    }\n",
       "\n",
       "    .dataframe tbody tr th {\n",
       "        vertical-align: top;\n",
       "    }\n",
       "\n",
       "    .dataframe thead th {\n",
       "        text-align: right;\n",
       "    }\n",
       "</style>\n",
       "<table border=\"1\" class=\"dataframe\">\n",
       "  <thead>\n",
       "    <tr style=\"text-align: right;\">\n",
       "      <th></th>\n",
       "      <th>title</th>\n",
       "      <th>video_time</th>\n",
       "      <th>view_num</th>\n",
       "      <th>url</th>\n",
       "    </tr>\n",
       "  </thead>\n",
       "  <tbody>\n",
       "    <tr>\n",
       "      <th>0</th>\n",
       "      <td>How to Do theTriangle Choke from Open Guard, w...</td>\n",
       "      <td>109</td>\n",
       "      <td>조회수 2.5천회</td>\n",
       "      <td>https://www.youtube.com/watch?v=tIPJrOFDpvw</td>\n",
       "    </tr>\n",
       "    <tr>\n",
       "      <th>1</th>\n",
       "      <td>3 High Percentage Techniques to Defend the Kne...</td>\n",
       "      <td>304</td>\n",
       "      <td>조회수 4.1천회</td>\n",
       "      <td>https://www.youtube.com/watch?v=2mg6jyT0OZ4</td>\n",
       "    </tr>\n",
       "    <tr>\n",
       "      <th>2</th>\n",
       "      <td>Robert Drysdale, IBJJF and ADCC World Champ, O...</td>\n",
       "      <td>4078</td>\n",
       "      <td>조회수 986회</td>\n",
       "      <td>https://www.youtube.com/watch?v=M11jm9i_CtQ</td>\n",
       "    </tr>\n",
       "    <tr>\n",
       "      <th>3</th>\n",
       "      <td>Bears, Black Flies and Suffering in the Canadi...</td>\n",
       "      <td>4542</td>\n",
       "      <td>조회수 525회</td>\n",
       "      <td>https://www.youtube.com/watch?v=xQW_AcfUj3M</td>\n",
       "    </tr>\n",
       "    <tr>\n",
       "      <th>4</th>\n",
       "      <td>What is a BJJ Training Pod, How It Makes You S...</td>\n",
       "      <td>1214</td>\n",
       "      <td>조회수 3.4천회</td>\n",
       "      <td>https://www.youtube.com/watch?v=DSG3zsC-WwM</td>\n",
       "    </tr>\n",
       "    <tr>\n",
       "      <th>...</th>\n",
       "      <td>...</td>\n",
       "      <td>...</td>\n",
       "      <td>...</td>\n",
       "      <td>...</td>\n",
       "    </tr>\n",
       "    <tr>\n",
       "      <th>780</th>\n",
       "      <td>An Alternative To Pulling Guard When Grappling...</td>\n",
       "      <td>184</td>\n",
       "      <td>조회수 18만회</td>\n",
       "      <td>https://www.youtube.com/watch?v=8Ib2zicFVnM</td>\n",
       "    </tr>\n",
       "    <tr>\n",
       "      <th>781</th>\n",
       "      <td>How to Finish the Kimura Armlock Submission fr...</td>\n",
       "      <td>66</td>\n",
       "      <td>조회수 26만회</td>\n",
       "      <td>https://www.youtube.com/watch?v=rdVWyYb61IM</td>\n",
       "    </tr>\n",
       "    <tr>\n",
       "      <th>782</th>\n",
       "      <td>The 'Air Guitar' Finish to a Back Climb from t...</td>\n",
       "      <td>53</td>\n",
       "      <td>조회수 7.2만회</td>\n",
       "      <td>https://www.youtube.com/watch?v=UP5ODwPbP1g</td>\n",
       "    </tr>\n",
       "    <tr>\n",
       "      <th>783</th>\n",
       "      <td>A Rear Naked Choke Tutorial</td>\n",
       "      <td>586</td>\n",
       "      <td>조회수 61만회</td>\n",
       "      <td>https://www.youtube.com/watch?v=176SLdBhj_A</td>\n",
       "    </tr>\n",
       "    <tr>\n",
       "      <th>784</th>\n",
       "      <td>Half Guard Leg Position Drill for BJJ &amp; Submis...</td>\n",
       "      <td>110</td>\n",
       "      <td>조회수 10만회</td>\n",
       "      <td>https://www.youtube.com/watch?v=qW7FmJayh8o</td>\n",
       "    </tr>\n",
       "  </tbody>\n",
       "</table>\n",
       "<p>785 rows × 4 columns</p>\n",
       "</div>"
      ],
      "text/plain": [
       "                                                 title  video_time   view_num  \\\n",
       "0    How to Do theTriangle Choke from Open Guard, w...         109  조회수 2.5천회   \n",
       "1    3 High Percentage Techniques to Defend the Kne...         304  조회수 4.1천회   \n",
       "2    Robert Drysdale, IBJJF and ADCC World Champ, O...        4078   조회수 986회   \n",
       "3    Bears, Black Flies and Suffering in the Canadi...        4542   조회수 525회   \n",
       "4    What is a BJJ Training Pod, How It Makes You S...        1214  조회수 3.4천회   \n",
       "..                                                 ...         ...        ...   \n",
       "780  An Alternative To Pulling Guard When Grappling...         184   조회수 18만회   \n",
       "781  How to Finish the Kimura Armlock Submission fr...          66   조회수 26만회   \n",
       "782  The 'Air Guitar' Finish to a Back Climb from t...          53  조회수 7.2만회   \n",
       "783                        A Rear Naked Choke Tutorial         586   조회수 61만회   \n",
       "784  Half Guard Leg Position Drill for BJJ & Submis...         110   조회수 10만회   \n",
       "\n",
       "                                             url  \n",
       "0    https://www.youtube.com/watch?v=tIPJrOFDpvw  \n",
       "1    https://www.youtube.com/watch?v=2mg6jyT0OZ4  \n",
       "2    https://www.youtube.com/watch?v=M11jm9i_CtQ  \n",
       "3    https://www.youtube.com/watch?v=xQW_AcfUj3M  \n",
       "4    https://www.youtube.com/watch?v=DSG3zsC-WwM  \n",
       "..                                           ...  \n",
       "780  https://www.youtube.com/watch?v=8Ib2zicFVnM  \n",
       "781  https://www.youtube.com/watch?v=rdVWyYb61IM  \n",
       "782  https://www.youtube.com/watch?v=UP5ODwPbP1g  \n",
       "783  https://www.youtube.com/watch?v=176SLdBhj_A  \n",
       "784  https://www.youtube.com/watch?v=qW7FmJayh8o  \n",
       "\n",
       "[785 rows x 4 columns]"
      ]
     },
     "execution_count": 38,
     "metadata": {},
     "output_type": "execute_result"
    }
   ],
   "source": [
    "import pandas as pd\n",
    "dict_youtube = {'title':title_list, \n",
    "                'video_time':video_time_seperate_list, \n",
    "                'view_num':view_num_list,\n",
    "               'url':url_list}\n",
    "youtube = pd.DataFrame(dict_youtube)\n",
    "youtube"
   ]
  },
  {
   "cell_type": "code",
   "execution_count": null,
   "metadata": {},
   "outputs": [],
   "source": []
  }
 ],
 "metadata": {
  "kernelspec": {
   "display_name": "Python 3",
   "language": "python",
   "name": "python3"
  },
  "language_info": {
   "codemirror_mode": {
    "name": "ipython",
    "version": 3
   },
   "file_extension": ".py",
   "mimetype": "text/x-python",
   "name": "python",
   "nbconvert_exporter": "python",
   "pygments_lexer": "ipython3",
   "version": "3.7.6"
  }
 },
 "nbformat": 4,
 "nbformat_minor": 4
}
